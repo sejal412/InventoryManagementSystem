{
  "nbformat": 4,
  "nbformat_minor": 0,
  "metadata": {
    "colab": {
      "provenance": [],
      "collapsed_sections": []
    },
    "kernelspec": {
      "name": "python3",
      "display_name": "Python 3"
    },
    "language_info": {
      "name": "python"
    }
  },
  "cells": [
    {
      "cell_type": "markdown",
      "metadata": {
        "id": "4Q1EAXd7am4u"
      },
      "source": [
        "1)json file"
      ]
    },
    {
      "cell_type": "code",
      "metadata": {
        "id": "62Gnn_H_bU_q"
      },
      "source": [
        "import json"
      ],
      "execution_count": 1,
      "outputs": []
    },
    {
      "cell_type": "code",
      "metadata": {
        "id": "889s3k8mbYln"
      },
      "source": [
        "fd=open(\"records.json\",\"r\")\n",
        "records=fd.read()\n",
        "fd.close()\n",
        "js=json.loads(records)"
      ],
      "execution_count": 2,
      "outputs": []
    },
    {
      "cell_type": "code",
      "metadata": {
        "colab": {
          "base_uri": "https://localhost:8080/"
        },
        "id": "oa2HPLLZg3hc",
        "outputId": "fbd1ad18-b770-41b8-e32c-a767d62f036d"
      },
      "source": [
        "js"
      ],
      "execution_count": 3,
      "outputs": [
        {
          "output_type": "execute_result",
          "data": {
            "text/plain": [
              "{'10001': {'name': 'Coca Cola',\n",
              "  'price': 65,\n",
              "  'quantity': 90,\n",
              "  'catagory': 'soft-drink',\n",
              "  'mfg_date': '4Sept,2021',\n",
              "  'size': '1.25L',\n",
              "  'specifications': '-'},\n",
              " '10002': {'name': 'Coca Cola(Big size)',\n",
              "  'price': 89,\n",
              "  'quantity': 100,\n",
              "  'catagory': 'soft-drink',\n",
              "  'mfg_date': '1Sept,2021',\n",
              "  'size': '2.25L',\n",
              "  'specifications': '-'},\n",
              " '10003': {'name': 'Maza Mango Drink',\n",
              "  'price': 46,\n",
              "  'quantity': 92,\n",
              "  'catagory': 'drink',\n",
              "  'mfg_date': '5Sept,2021',\n",
              "  'size': '1.2L',\n",
              "  'specifications': '-'},\n",
              " '10004': {'name': 'Cadbury Chocolate Choc Layered Cakes',\n",
              "  'price': 60,\n",
              "  'quantity': 100,\n",
              "  'catagory': 'ice-cream family pack',\n",
              "  'mfg_date': '5Sept,2021',\n",
              "  'size': '126gram',\n",
              "  'specifications': '-'},\n",
              " '10005': {'name': 'Cadbury Dark Milk Chocolate Bar',\n",
              "  'price': 338,\n",
              "  'quantity': 100,\n",
              "  'catagory': 'chocolate-bar',\n",
              "  'mfg_date': '5Sept,2021',\n",
              "  'size': '156gram',\n",
              "  'specifications': '-'},\n",
              " '10006': {'name': 'Cadbury Dairy Milk Small',\n",
              "  'price': 40,\n",
              "  'quantity': 100,\n",
              "  'catagory': 'Chocolate',\n",
              "  'mfg_date': '5Sept,2021',\n",
              "  'size': '54gram',\n",
              "  'specifications': '-'},\n",
              " '10007': {'name': 'Cadbury Dairy Milk Silk Mousse Chocolate Bar',\n",
              "  'price': 78,\n",
              "  'quantity': 100,\n",
              "  'catagory': 'chocolate-bar',\n",
              "  'mfg_date': '4Sept,2021',\n",
              "  'size': '50gram',\n",
              "  'specifications': '-'},\n",
              " '10008': {'name': \"Kellogg's Chocos\",\n",
              "  'price': 445,\n",
              "  'quantity': 100,\n",
              "  'catagory': 'food',\n",
              "  'mfg_date': '2Sept,2021',\n",
              "  'size': '1.2kg',\n",
              "  'specifications': '-'},\n",
              " '10009': {'name': 'Sunfeast Dark Fantacy Choco Fills',\n",
              "  'price': 36,\n",
              "  'quantity': 100,\n",
              "  'catagory': 'Biscuit',\n",
              "  'mfg_date': '5Sept,2021',\n",
              "  'size': '75gram',\n",
              "  'specifications': '-'},\n",
              " '10010': {'name': 'Samsung Galaxy M31',\n",
              "  'price': 15999,\n",
              "  'quantity': 75,\n",
              "  'catagory': 'phone',\n",
              "  'mfg_date': '3feb,2021',\n",
              "  'size': 'Screen size-6.4Inches',\n",
              "  'specifications': 'Ocean Blue,6GB RAM ,128GB Storage'},\n",
              " '10011': {'name': 'Mi 11X Pro 5G',\n",
              "  'price': 49999,\n",
              "  'quantity': 60,\n",
              "  'catagory': 'phone',\n",
              "  'mfg_date': '4mar,2021',\n",
              "  'size': 'Screen size-6.67Inches',\n",
              "  'specifications': 'Cosmic Black,8GB RAM ,256GB Storage'},\n",
              " '10012': {'name': 'Realme Norzo 30',\n",
              "  'price': 16999,\n",
              "  'quantity': 55,\n",
              "  'catagory': 'phone',\n",
              "  'mfg_date': '13mar,2021',\n",
              "  'size': 'Screen size-6.5Inches',\n",
              "  'specifications': 'Racing Silver,6GB RAM, 128GB Storage'},\n",
              " '10013': {'name': 'Oppo A74 5G',\n",
              "  'price': 20999,\n",
              "  'quantity': 10,\n",
              "  'catagory': 'phone',\n",
              "  'mfg_date': '16feb,2021',\n",
              "  'size': 'Screen size-6.5Inches',\n",
              "  'specifications': 'Fantastic Purple,6GB RAM,128GB Storage'},\n",
              " '10014': {'name': 'Lenovo IdeaPad Gaming 3 Intel Core i5 10th Gen Full HD IPS Gaming Laptop(Onyx Black)',\n",
              "  'price': 59990,\n",
              "  'quantity': 15,\n",
              "  'catagory': 'laptop',\n",
              "  'mfg_date': '4mar,2021',\n",
              "  'size': '2.2kg',\n",
              "  'specifications': '8GB/1TB HDD/Windows 10/NVIDIA GTX 1650 4GB GDDR6 Graphics'},\n",
              " '10015': {'name': 'HP Pavillon Gaming 10th Gen Intel Core i5 Processor 15.6Inch FHD Gaming Laptop(Shadow Black)',\n",
              "  'price': 67990,\n",
              "  'quantity': 10,\n",
              "  'catagory': 'laptop',\n",
              "  'mfg_date': '18feb,2021',\n",
              "  'size': '2.23kg',\n",
              "  'specifications': '8GB/512GB SSD+32GB Intel Optane/Windows 10/NVIDIA 1650Ti 4GB'},\n",
              " '10016': {'name': 'HP Elitebook UltraSlim Hybrid Laptop 820G1 Intel Core i5 - 4200u Processor',\n",
              "  'price': 89990,\n",
              "  'quantity': 10,\n",
              "  'catagory': 'laptop',\n",
              "  'mfg_date': '3mar,2021',\n",
              "  'size': '1.5kg',\n",
              "  'specifications': '8 GB Ram, 1TB Harddisk & 256 GB ssd, Windows 10 Pro, 12.5 Inches Notebook'},\n",
              " '10017': {'name': 'LG Gram Ultra-Light 11th Gen Core i5',\n",
              "  'price': 74490,\n",
              "  'quantity': 40,\n",
              "  'catagory': 'laptop',\n",
              "  'mfg_date': '16feb,2021',\n",
              "  'size': '999gram',\n",
              "  'specifications': '8 GB RAM, 512 GB SSD, Win-10, Iris Xe Graphics, 14-inches, Thunderbolt 4, USC -C x 2 (with Power)'},\n",
              " '10018': {'name': 'Hide and Seek(Cafe Mocha)',\n",
              "  'price': 30,\n",
              "  'quantity': 145,\n",
              "  'catagory': 'biscuit',\n",
              "  'mfg_date': '18jan,2021',\n",
              "  'size': '120gram',\n",
              "  'specifications': 'fresh'},\n",
              " '10019': {'name': 'Britannia Treat Jim Jam',\n",
              "  'price': 35,\n",
              "  'quantity': 60,\n",
              "  'catagory': 'biscuit',\n",
              "  'mfg_date': '20jan,2021',\n",
              "  'size': '150gram',\n",
              "  'specifications': 'fresh'},\n",
              " '10020': {'name': 'Bourn Vita',\n",
              "  'price': 290,\n",
              "  'quantity': 50,\n",
              "  'catagory': 'food',\n",
              "  'mfg_date': '15mar,2021',\n",
              "  'size': '750gram',\n",
              "  'specifications': '-'},\n",
              " '10021': {'name': 'Horlicks',\n",
              "  'price': 739,\n",
              "  'quantity': 40,\n",
              "  'catagory': 'nutritiion drink',\n",
              "  'mfg_date': '26Aug,2021',\n",
              "  'size': '2kg',\n",
              "  'specifications': 'healthy and nutritious drink'},\n",
              " '10022': {'name': 'Maggi',\n",
              "  'price': 160,\n",
              "  'quantity': 50,\n",
              "  'catagory': 'food',\n",
              "  'mfg_date': '3Sept,2021',\n",
              "  'size': '70gram',\n",
              "  'specifications': 'masala instant noodles'},\n",
              " '10023': {'name': 'Sunfeast Yippee',\n",
              "  'price': 86,\n",
              "  'quantity': 40,\n",
              "  'catagory': 'food',\n",
              "  'mfg_date': '1Sept,2021',\n",
              "  'size': '280gram',\n",
              "  'specifications': 'whole wheat/instant noodle'},\n",
              " '10024': {'name': 'Frooti-mango drink',\n",
              "  'price': 60,\n",
              "  'quantity': 10,\n",
              "  'catagory': 'mango-drink',\n",
              "  'mfg_date': '3Sept,2021',\n",
              "  'size': '300ml',\n",
              "  'specifications': '-'},\n",
              " '10025': {'name': 'Kissan Jam',\n",
              "  'price': 250,\n",
              "  'quantity': 30,\n",
              "  'catagory': 'food',\n",
              "  'mfg_date': '1Sept,2021',\n",
              "  'size': '1kg',\n",
              "  'specifications': 'mixed fruit jam'},\n",
              " '10026': {'name': 'Kurkure snacks',\n",
              "  'price': 20,\n",
              "  'quantity': 100,\n",
              "  'catagory': 'food',\n",
              "  'mfg_date': '4Sept,2021',\n",
              "  'size': '90gram',\n",
              "  'specifications': '-'},\n",
              " '10027': {'name': 'Pop-corn',\n",
              "  'price': 198,\n",
              "  'quantity': 40,\n",
              "  'catagory': 'food',\n",
              "  'mfg_date': '5Sept,2021',\n",
              "  'size': '450gram',\n",
              "  'specifications': 'pack of 3'},\n",
              " '10028': {'name': 'Dried Strowberry',\n",
              "  'price': 230,\n",
              "  'quantity': 10,\n",
              "  'catagory': 'food',\n",
              "  'mfg_date': '5Sept,2021',\n",
              "  'size': '200gram',\n",
              "  'specifications': '-'},\n",
              " '10029': {'name': 'Classmate Spiral Notebook',\n",
              "  'price': 240,\n",
              "  'quantity': 200,\n",
              "  'catagory': 'stationary-notebook',\n",
              "  'mfg_date': '14jan,2021',\n",
              "  'size': '-',\n",
              "  'specifications': 'Single line, Spiral Binding, 240mm x 180mm, 200 Pages, Pack of 4, Multicolor '},\n",
              " '10030': {'name': 'Classmate Long Notebook ',\n",
              "  'price': 175,\n",
              "  'quantity': 100,\n",
              "  'catagory': 'stationary-notebook',\n",
              "  'mfg_date': '1Aug,2021',\n",
              "  'size': '-',\n",
              "  'specifications': 'Soft Cover, 120 Pages, 272x167mm, Single Line'},\n",
              " '10031': {'name': 'Nataraj Pencil',\n",
              "  'pr': 10,\n",
              "  'qn': 50,\n",
              "  'cat': 'stationary-pencil',\n",
              "  'mfg_date': '1jan,2021',\n",
              "  'size': '10gram',\n",
              "  'specification': 'extra dark'},\n",
              " '10032': {'name': 'Mike',\n",
              "  'pr': 599,\n",
              "  'quantity': 145,\n",
              "  'cat': 'electronics',\n",
              "  'mfg_date': '5jan,2021',\n",
              "  'size': '-',\n",
              "  'specification': 'wireless'},\n",
              " '10033': {'name': 'Kurkure Namkeen',\n",
              "  'pr': 20,\n",
              "  'qn': 10,\n",
              "  'cat': 'food',\n",
              "  'mfg_date': '1sept,2021',\n",
              "  'size': '95gram',\n",
              "  'specification': 'masala munch'},\n",
              " '10034': {'name': 'Wired Headphone',\n",
              "  'pr': 500,\n",
              "  'qn': 40,\n",
              "  'cat': 'electronics',\n",
              "  'mfg_date': '14july,2021',\n",
              "  'size': '-',\n",
              "  'specification': 'black ,red ,blue colour'},\n",
              " '10035': {'name': 'abc',\n",
              "  'price': 1200,\n",
              "  'quantity': 500,\n",
              "  'catagory': 'Na',\n",
              "  'mfg_date': '14 jan, 2021',\n",
              "  'size': '_',\n",
              "  'specification': '-'},\n",
              " '10036': {'name': 'Kurkure',\n",
              "  'pr': 10,\n",
              "  'qn': 300,\n",
              "  'cat': 'food',\n",
              "  'mfg_date': '15 jan ,2022',\n",
              "  'size': '-',\n",
              "  'specification': 'Na'}}"
            ]
          },
          "metadata": {},
          "execution_count": 3
        }
      ]
    },
    {
      "cell_type": "code",
      "metadata": {
        "colab": {
          "base_uri": "https://localhost:8080/"
        },
        "id": "R9lBEtHxb-up",
        "outputId": "433f63f4-052d-4b57-874f-7df923bcf9c8"
      },
      "source": [
        "type(js)"
      ],
      "execution_count": 4,
      "outputs": [
        {
          "output_type": "execute_result",
          "data": {
            "text/plain": [
              "dict"
            ]
          },
          "metadata": {},
          "execution_count": 4
        }
      ]
    },
    {
      "cell_type": "markdown",
      "metadata": {
        "id": "G3fobWlsczDD"
      },
      "source": [
        "2)Add new items in inventory:"
      ]
    },
    {
      "cell_type": "code",
      "metadata": {
        "colab": {
          "base_uri": "https://localhost:8080/"
        },
        "id": "tuybI32KckeJ",
        "outputId": "7f6c8ed0-f21b-4698-d0c5-b9feedd2aaf6"
      },
      "source": [
        "prod_id = str(input(\"Enter product id:\"))\n",
        "name = str(input(\"Enter name:\"))\n",
        "pr = int(input(\"Enter price:\"))\n",
        "qn = int(input(\"Enter quantity:\"))\n",
        "cat=str(input(\"Enter catagory of product\"))\n",
        "mfg_date=str(input(\"Enter manufacture date\"))\n",
        "size=input(\"Enter size:\")\n",
        "spec=str(input(\"Enter specification\"))"
      ],
      "execution_count": 5,
      "outputs": [
        {
          "name": "stdout",
          "output_type": "stream",
          "text": [
            "Enter product id:10037\n",
            "Enter name:K1\n",
            "Enter price:1999\n",
            "Enter quantity:100\n",
            "Enter catagory of product-\n",
            "Enter manufacture date15 Jan, 2021\n",
            "Enter size:-\n",
            "Enter specification-\n"
          ]
        }
      ]
    },
    {
      "cell_type": "code",
      "metadata": {
        "id": "iYpHqyFoVQd-"
      },
      "source": [
        "js[prod_id]= {'name': name, 'price': pr, 'quantity': qn,'catagory':cat,'mfg_date':mfg_date,'size':size,'specification':spec}"
      ],
      "execution_count": 6,
      "outputs": []
    },
    {
      "cell_type": "code",
      "metadata": {
        "id": "6OLcNJNhnwzb"
      },
      "source": [
        "save=js[prod_id]"
      ],
      "execution_count": 7,
      "outputs": []
    },
    {
      "cell_type": "code",
      "metadata": {
        "colab": {
          "base_uri": "https://localhost:8080/"
        },
        "id": "7B27yP3KqB7Q",
        "outputId": "f2b604ff-47c2-42be-9f84-7f3354a90866"
      },
      "source": [
        "save"
      ],
      "execution_count": 8,
      "outputs": [
        {
          "output_type": "execute_result",
          "data": {
            "text/plain": [
              "{'name': 'K1',\n",
              " 'price': 1999,\n",
              " 'quantity': 100,\n",
              " 'catagory': '-',\n",
              " 'mfg_date': '15 Jan, 2021',\n",
              " 'size': '-',\n",
              " 'specification': '-'}"
            ]
          },
          "metadata": {},
          "execution_count": 8
        }
      ]
    },
    {
      "cell_type": "code",
      "metadata": {
        "colab": {
          "base_uri": "https://localhost:8080/"
        },
        "id": "ZcmZzFA2krxf",
        "outputId": "67a940c0-1c8b-4a35-a7f6-bc260dfa8f3c"
      },
      "source": [
        "js"
      ],
      "execution_count": 9,
      "outputs": [
        {
          "output_type": "execute_result",
          "data": {
            "text/plain": [
              "{'10001': {'name': 'Coca Cola',\n",
              "  'price': 65,\n",
              "  'quantity': 90,\n",
              "  'catagory': 'soft-drink',\n",
              "  'mfg_date': '4Sept,2021',\n",
              "  'size': '1.25L',\n",
              "  'specifications': '-'},\n",
              " '10002': {'name': 'Coca Cola(Big size)',\n",
              "  'price': 89,\n",
              "  'quantity': 100,\n",
              "  'catagory': 'soft-drink',\n",
              "  'mfg_date': '1Sept,2021',\n",
              "  'size': '2.25L',\n",
              "  'specifications': '-'},\n",
              " '10003': {'name': 'Maza Mango Drink',\n",
              "  'price': 46,\n",
              "  'quantity': 92,\n",
              "  'catagory': 'drink',\n",
              "  'mfg_date': '5Sept,2021',\n",
              "  'size': '1.2L',\n",
              "  'specifications': '-'},\n",
              " '10004': {'name': 'Cadbury Chocolate Choc Layered Cakes',\n",
              "  'price': 60,\n",
              "  'quantity': 100,\n",
              "  'catagory': 'ice-cream family pack',\n",
              "  'mfg_date': '5Sept,2021',\n",
              "  'size': '126gram',\n",
              "  'specifications': '-'},\n",
              " '10005': {'name': 'Cadbury Dark Milk Chocolate Bar',\n",
              "  'price': 338,\n",
              "  'quantity': 100,\n",
              "  'catagory': 'chocolate-bar',\n",
              "  'mfg_date': '5Sept,2021',\n",
              "  'size': '156gram',\n",
              "  'specifications': '-'},\n",
              " '10006': {'name': 'Cadbury Dairy Milk Small',\n",
              "  'price': 40,\n",
              "  'quantity': 100,\n",
              "  'catagory': 'Chocolate',\n",
              "  'mfg_date': '5Sept,2021',\n",
              "  'size': '54gram',\n",
              "  'specifications': '-'},\n",
              " '10007': {'name': 'Cadbury Dairy Milk Silk Mousse Chocolate Bar',\n",
              "  'price': 78,\n",
              "  'quantity': 100,\n",
              "  'catagory': 'chocolate-bar',\n",
              "  'mfg_date': '4Sept,2021',\n",
              "  'size': '50gram',\n",
              "  'specifications': '-'},\n",
              " '10008': {'name': \"Kellogg's Chocos\",\n",
              "  'price': 445,\n",
              "  'quantity': 100,\n",
              "  'catagory': 'food',\n",
              "  'mfg_date': '2Sept,2021',\n",
              "  'size': '1.2kg',\n",
              "  'specifications': '-'},\n",
              " '10009': {'name': 'Sunfeast Dark Fantacy Choco Fills',\n",
              "  'price': 36,\n",
              "  'quantity': 100,\n",
              "  'catagory': 'Biscuit',\n",
              "  'mfg_date': '5Sept,2021',\n",
              "  'size': '75gram',\n",
              "  'specifications': '-'},\n",
              " '10010': {'name': 'Samsung Galaxy M31',\n",
              "  'price': 15999,\n",
              "  'quantity': 75,\n",
              "  'catagory': 'phone',\n",
              "  'mfg_date': '3feb,2021',\n",
              "  'size': 'Screen size-6.4Inches',\n",
              "  'specifications': 'Ocean Blue,6GB RAM ,128GB Storage'},\n",
              " '10011': {'name': 'Mi 11X Pro 5G',\n",
              "  'price': 49999,\n",
              "  'quantity': 60,\n",
              "  'catagory': 'phone',\n",
              "  'mfg_date': '4mar,2021',\n",
              "  'size': 'Screen size-6.67Inches',\n",
              "  'specifications': 'Cosmic Black,8GB RAM ,256GB Storage'},\n",
              " '10012': {'name': 'Realme Norzo 30',\n",
              "  'price': 16999,\n",
              "  'quantity': 55,\n",
              "  'catagory': 'phone',\n",
              "  'mfg_date': '13mar,2021',\n",
              "  'size': 'Screen size-6.5Inches',\n",
              "  'specifications': 'Racing Silver,6GB RAM, 128GB Storage'},\n",
              " '10013': {'name': 'Oppo A74 5G',\n",
              "  'price': 20999,\n",
              "  'quantity': 10,\n",
              "  'catagory': 'phone',\n",
              "  'mfg_date': '16feb,2021',\n",
              "  'size': 'Screen size-6.5Inches',\n",
              "  'specifications': 'Fantastic Purple,6GB RAM,128GB Storage'},\n",
              " '10014': {'name': 'Lenovo IdeaPad Gaming 3 Intel Core i5 10th Gen Full HD IPS Gaming Laptop(Onyx Black)',\n",
              "  'price': 59990,\n",
              "  'quantity': 15,\n",
              "  'catagory': 'laptop',\n",
              "  'mfg_date': '4mar,2021',\n",
              "  'size': '2.2kg',\n",
              "  'specifications': '8GB/1TB HDD/Windows 10/NVIDIA GTX 1650 4GB GDDR6 Graphics'},\n",
              " '10015': {'name': 'HP Pavillon Gaming 10th Gen Intel Core i5 Processor 15.6Inch FHD Gaming Laptop(Shadow Black)',\n",
              "  'price': 67990,\n",
              "  'quantity': 10,\n",
              "  'catagory': 'laptop',\n",
              "  'mfg_date': '18feb,2021',\n",
              "  'size': '2.23kg',\n",
              "  'specifications': '8GB/512GB SSD+32GB Intel Optane/Windows 10/NVIDIA 1650Ti 4GB'},\n",
              " '10016': {'name': 'HP Elitebook UltraSlim Hybrid Laptop 820G1 Intel Core i5 - 4200u Processor',\n",
              "  'price': 89990,\n",
              "  'quantity': 10,\n",
              "  'catagory': 'laptop',\n",
              "  'mfg_date': '3mar,2021',\n",
              "  'size': '1.5kg',\n",
              "  'specifications': '8 GB Ram, 1TB Harddisk & 256 GB ssd, Windows 10 Pro, 12.5 Inches Notebook'},\n",
              " '10017': {'name': 'LG Gram Ultra-Light 11th Gen Core i5',\n",
              "  'price': 74490,\n",
              "  'quantity': 40,\n",
              "  'catagory': 'laptop',\n",
              "  'mfg_date': '16feb,2021',\n",
              "  'size': '999gram',\n",
              "  'specifications': '8 GB RAM, 512 GB SSD, Win-10, Iris Xe Graphics, 14-inches, Thunderbolt 4, USC -C x 2 (with Power)'},\n",
              " '10018': {'name': 'Hide and Seek(Cafe Mocha)',\n",
              "  'price': 30,\n",
              "  'quantity': 145,\n",
              "  'catagory': 'biscuit',\n",
              "  'mfg_date': '18jan,2021',\n",
              "  'size': '120gram',\n",
              "  'specifications': 'fresh'},\n",
              " '10019': {'name': 'Britannia Treat Jim Jam',\n",
              "  'price': 35,\n",
              "  'quantity': 60,\n",
              "  'catagory': 'biscuit',\n",
              "  'mfg_date': '20jan,2021',\n",
              "  'size': '150gram',\n",
              "  'specifications': 'fresh'},\n",
              " '10020': {'name': 'Bourn Vita',\n",
              "  'price': 290,\n",
              "  'quantity': 50,\n",
              "  'catagory': 'food',\n",
              "  'mfg_date': '15mar,2021',\n",
              "  'size': '750gram',\n",
              "  'specifications': '-'},\n",
              " '10021': {'name': 'Horlicks',\n",
              "  'price': 739,\n",
              "  'quantity': 40,\n",
              "  'catagory': 'nutritiion drink',\n",
              "  'mfg_date': '26Aug,2021',\n",
              "  'size': '2kg',\n",
              "  'specifications': 'healthy and nutritious drink'},\n",
              " '10022': {'name': 'Maggi',\n",
              "  'price': 160,\n",
              "  'quantity': 50,\n",
              "  'catagory': 'food',\n",
              "  'mfg_date': '3Sept,2021',\n",
              "  'size': '70gram',\n",
              "  'specifications': 'masala instant noodles'},\n",
              " '10023': {'name': 'Sunfeast Yippee',\n",
              "  'price': 86,\n",
              "  'quantity': 40,\n",
              "  'catagory': 'food',\n",
              "  'mfg_date': '1Sept,2021',\n",
              "  'size': '280gram',\n",
              "  'specifications': 'whole wheat/instant noodle'},\n",
              " '10024': {'name': 'Frooti-mango drink',\n",
              "  'price': 60,\n",
              "  'quantity': 10,\n",
              "  'catagory': 'mango-drink',\n",
              "  'mfg_date': '3Sept,2021',\n",
              "  'size': '300ml',\n",
              "  'specifications': '-'},\n",
              " '10025': {'name': 'Kissan Jam',\n",
              "  'price': 250,\n",
              "  'quantity': 30,\n",
              "  'catagory': 'food',\n",
              "  'mfg_date': '1Sept,2021',\n",
              "  'size': '1kg',\n",
              "  'specifications': 'mixed fruit jam'},\n",
              " '10026': {'name': 'Kurkure snacks',\n",
              "  'price': 20,\n",
              "  'quantity': 100,\n",
              "  'catagory': 'food',\n",
              "  'mfg_date': '4Sept,2021',\n",
              "  'size': '90gram',\n",
              "  'specifications': '-'},\n",
              " '10027': {'name': 'Pop-corn',\n",
              "  'price': 198,\n",
              "  'quantity': 40,\n",
              "  'catagory': 'food',\n",
              "  'mfg_date': '5Sept,2021',\n",
              "  'size': '450gram',\n",
              "  'specifications': 'pack of 3'},\n",
              " '10028': {'name': 'Dried Strowberry',\n",
              "  'price': 230,\n",
              "  'quantity': 10,\n",
              "  'catagory': 'food',\n",
              "  'mfg_date': '5Sept,2021',\n",
              "  'size': '200gram',\n",
              "  'specifications': '-'},\n",
              " '10029': {'name': 'Classmate Spiral Notebook',\n",
              "  'price': 240,\n",
              "  'quantity': 200,\n",
              "  'catagory': 'stationary-notebook',\n",
              "  'mfg_date': '14jan,2021',\n",
              "  'size': '-',\n",
              "  'specifications': 'Single line, Spiral Binding, 240mm x 180mm, 200 Pages, Pack of 4, Multicolor '},\n",
              " '10030': {'name': 'Classmate Long Notebook ',\n",
              "  'price': 175,\n",
              "  'quantity': 100,\n",
              "  'catagory': 'stationary-notebook',\n",
              "  'mfg_date': '1Aug,2021',\n",
              "  'size': '-',\n",
              "  'specifications': 'Soft Cover, 120 Pages, 272x167mm, Single Line'},\n",
              " '10031': {'name': 'Nataraj Pencil',\n",
              "  'pr': 10,\n",
              "  'qn': 50,\n",
              "  'cat': 'stationary-pencil',\n",
              "  'mfg_date': '1jan,2021',\n",
              "  'size': '10gram',\n",
              "  'specification': 'extra dark'},\n",
              " '10032': {'name': 'Mike',\n",
              "  'pr': 599,\n",
              "  'quantity': 145,\n",
              "  'cat': 'electronics',\n",
              "  'mfg_date': '5jan,2021',\n",
              "  'size': '-',\n",
              "  'specification': 'wireless'},\n",
              " '10033': {'name': 'Kurkure Namkeen',\n",
              "  'pr': 20,\n",
              "  'qn': 10,\n",
              "  'cat': 'food',\n",
              "  'mfg_date': '1sept,2021',\n",
              "  'size': '95gram',\n",
              "  'specification': 'masala munch'},\n",
              " '10034': {'name': 'Wired Headphone',\n",
              "  'pr': 500,\n",
              "  'qn': 40,\n",
              "  'cat': 'electronics',\n",
              "  'mfg_date': '14july,2021',\n",
              "  'size': '-',\n",
              "  'specification': 'black ,red ,blue colour'},\n",
              " '10035': {'name': 'abc',\n",
              "  'price': 1200,\n",
              "  'quantity': 500,\n",
              "  'catagory': 'Na',\n",
              "  'mfg_date': '14 jan, 2021',\n",
              "  'size': '_',\n",
              "  'specification': '-'},\n",
              " '10036': {'name': 'Kurkure',\n",
              "  'pr': 10,\n",
              "  'qn': 300,\n",
              "  'cat': 'food',\n",
              "  'mfg_date': '15 jan ,2022',\n",
              "  'size': '-',\n",
              "  'specification': 'Na'},\n",
              " '10037': {'name': 'K1',\n",
              "  'price': 1999,\n",
              "  'quantity': 100,\n",
              "  'catagory': '-',\n",
              "  'mfg_date': '15 Jan, 2021',\n",
              "  'size': '-',\n",
              "  'specification': '-'}}"
            ]
          },
          "metadata": {},
          "execution_count": 9
        }
      ]
    },
    {
      "cell_type": "code",
      "metadata": {
        "id": "rbA3yTvPeyUG"
      },
      "source": [
        "jss=(js[prod_id])"
      ],
      "execution_count": 10,
      "outputs": []
    },
    {
      "cell_type": "code",
      "metadata": {
        "colab": {
          "base_uri": "https://localhost:8080/"
        },
        "id": "HbTwM6Rvfp70",
        "outputId": "8685dff3-7078-4b19-9d96-36b9cf03f4fb"
      },
      "source": [
        "print(\"Updated repository:\",js)"
      ],
      "execution_count": 11,
      "outputs": [
        {
          "output_type": "stream",
          "name": "stdout",
          "text": [
            "Updated repository: {'10001': {'name': 'Coca Cola', 'price': 65, 'quantity': 90, 'catagory': 'soft-drink', 'mfg_date': '4Sept,2021', 'size': '1.25L', 'specifications': '-'}, '10002': {'name': 'Coca Cola(Big size)', 'price': 89, 'quantity': 100, 'catagory': 'soft-drink', 'mfg_date': '1Sept,2021', 'size': '2.25L', 'specifications': '-'}, '10003': {'name': 'Maza Mango Drink', 'price': 46, 'quantity': 92, 'catagory': 'drink', 'mfg_date': '5Sept,2021', 'size': '1.2L', 'specifications': '-'}, '10004': {'name': 'Cadbury Chocolate Choc Layered Cakes', 'price': 60, 'quantity': 100, 'catagory': 'ice-cream family pack', 'mfg_date': '5Sept,2021', 'size': '126gram', 'specifications': '-'}, '10005': {'name': 'Cadbury Dark Milk Chocolate Bar', 'price': 338, 'quantity': 100, 'catagory': 'chocolate-bar', 'mfg_date': '5Sept,2021', 'size': '156gram', 'specifications': '-'}, '10006': {'name': 'Cadbury Dairy Milk Small', 'price': 40, 'quantity': 100, 'catagory': 'Chocolate', 'mfg_date': '5Sept,2021', 'size': '54gram', 'specifications': '-'}, '10007': {'name': 'Cadbury Dairy Milk Silk Mousse Chocolate Bar', 'price': 78, 'quantity': 100, 'catagory': 'chocolate-bar', 'mfg_date': '4Sept,2021', 'size': '50gram', 'specifications': '-'}, '10008': {'name': \"Kellogg's Chocos\", 'price': 445, 'quantity': 100, 'catagory': 'food', 'mfg_date': '2Sept,2021', 'size': '1.2kg', 'specifications': '-'}, '10009': {'name': 'Sunfeast Dark Fantacy Choco Fills', 'price': 36, 'quantity': 100, 'catagory': 'Biscuit', 'mfg_date': '5Sept,2021', 'size': '75gram', 'specifications': '-'}, '10010': {'name': 'Samsung Galaxy M31', 'price': 15999, 'quantity': 75, 'catagory': 'phone', 'mfg_date': '3feb,2021', 'size': 'Screen size-6.4Inches', 'specifications': 'Ocean Blue,6GB RAM ,128GB Storage'}, '10011': {'name': 'Mi 11X Pro 5G', 'price': 49999, 'quantity': 60, 'catagory': 'phone', 'mfg_date': '4mar,2021', 'size': 'Screen size-6.67Inches', 'specifications': 'Cosmic Black,8GB RAM ,256GB Storage'}, '10012': {'name': 'Realme Norzo 30', 'price': 16999, 'quantity': 55, 'catagory': 'phone', 'mfg_date': '13mar,2021', 'size': 'Screen size-6.5Inches', 'specifications': 'Racing Silver,6GB RAM, 128GB Storage'}, '10013': {'name': 'Oppo A74 5G', 'price': 20999, 'quantity': 10, 'catagory': 'phone', 'mfg_date': '16feb,2021', 'size': 'Screen size-6.5Inches', 'specifications': 'Fantastic Purple,6GB RAM,128GB Storage'}, '10014': {'name': 'Lenovo IdeaPad Gaming 3 Intel Core i5 10th Gen Full HD IPS Gaming Laptop(Onyx Black)', 'price': 59990, 'quantity': 15, 'catagory': 'laptop', 'mfg_date': '4mar,2021', 'size': '2.2kg', 'specifications': '8GB/1TB HDD/Windows 10/NVIDIA GTX 1650 4GB GDDR6 Graphics'}, '10015': {'name': 'HP Pavillon Gaming 10th Gen Intel Core i5 Processor 15.6Inch FHD Gaming Laptop(Shadow Black)', 'price': 67990, 'quantity': 10, 'catagory': 'laptop', 'mfg_date': '18feb,2021', 'size': '2.23kg', 'specifications': '8GB/512GB SSD+32GB Intel Optane/Windows 10/NVIDIA 1650Ti 4GB'}, '10016': {'name': 'HP Elitebook UltraSlim Hybrid Laptop 820G1 Intel Core i5 - 4200u Processor', 'price': 89990, 'quantity': 10, 'catagory': 'laptop', 'mfg_date': '3mar,2021', 'size': '1.5kg', 'specifications': '8 GB Ram, 1TB Harddisk & 256 GB ssd, Windows 10 Pro, 12.5 Inches Notebook'}, '10017': {'name': 'LG Gram Ultra-Light 11th Gen Core i5', 'price': 74490, 'quantity': 40, 'catagory': 'laptop', 'mfg_date': '16feb,2021', 'size': '999gram', 'specifications': '8 GB RAM, 512 GB SSD, Win-10, Iris Xe Graphics, 14-inches, Thunderbolt 4, USC -C x 2 (with Power)'}, '10018': {'name': 'Hide and Seek(Cafe Mocha)', 'price': 30, 'quantity': 145, 'catagory': 'biscuit', 'mfg_date': '18jan,2021', 'size': '120gram', 'specifications': 'fresh'}, '10019': {'name': 'Britannia Treat Jim Jam', 'price': 35, 'quantity': 60, 'catagory': 'biscuit', 'mfg_date': '20jan,2021', 'size': '150gram', 'specifications': 'fresh'}, '10020': {'name': 'Bourn Vita', 'price': 290, 'quantity': 50, 'catagory': 'food', 'mfg_date': '15mar,2021', 'size': '750gram', 'specifications': '-'}, '10021': {'name': 'Horlicks', 'price': 739, 'quantity': 40, 'catagory': 'nutritiion drink', 'mfg_date': '26Aug,2021', 'size': '2kg', 'specifications': 'healthy and nutritious drink'}, '10022': {'name': 'Maggi', 'price': 160, 'quantity': 50, 'catagory': 'food', 'mfg_date': '3Sept,2021', 'size': '70gram', 'specifications': 'masala instant noodles'}, '10023': {'name': 'Sunfeast Yippee', 'price': 86, 'quantity': 40, 'catagory': 'food', 'mfg_date': '1Sept,2021', 'size': '280gram', 'specifications': 'whole wheat/instant noodle'}, '10024': {'name': 'Frooti-mango drink', 'price': 60, 'quantity': 10, 'catagory': 'mango-drink', 'mfg_date': '3Sept,2021', 'size': '300ml', 'specifications': '-'}, '10025': {'name': 'Kissan Jam', 'price': 250, 'quantity': 30, 'catagory': 'food', 'mfg_date': '1Sept,2021', 'size': '1kg', 'specifications': 'mixed fruit jam'}, '10026': {'name': 'Kurkure snacks', 'price': 20, 'quantity': 100, 'catagory': 'food', 'mfg_date': '4Sept,2021', 'size': '90gram', 'specifications': '-'}, '10027': {'name': 'Pop-corn', 'price': 198, 'quantity': 40, 'catagory': 'food', 'mfg_date': '5Sept,2021', 'size': '450gram', 'specifications': 'pack of 3'}, '10028': {'name': 'Dried Strowberry', 'price': 230, 'quantity': 10, 'catagory': 'food', 'mfg_date': '5Sept,2021', 'size': '200gram', 'specifications': '-'}, '10029': {'name': 'Classmate Spiral Notebook', 'price': 240, 'quantity': 200, 'catagory': 'stationary-notebook', 'mfg_date': '14jan,2021', 'size': '-', 'specifications': 'Single line, Spiral Binding, 240mm x 180mm, 200 Pages, Pack of 4, Multicolor '}, '10030': {'name': 'Classmate Long Notebook ', 'price': 175, 'quantity': 100, 'catagory': 'stationary-notebook', 'mfg_date': '1Aug,2021', 'size': '-', 'specifications': 'Soft Cover, 120 Pages, 272x167mm, Single Line'}, '10031': {'name': 'Nataraj Pencil', 'pr': 10, 'qn': 50, 'cat': 'stationary-pencil', 'mfg_date': '1jan,2021', 'size': '10gram', 'specification': 'extra dark'}, '10032': {'name': 'Mike', 'pr': 599, 'quantity': 145, 'cat': 'electronics', 'mfg_date': '5jan,2021', 'size': '-', 'specification': 'wireless'}, '10033': {'name': 'Kurkure Namkeen', 'pr': 20, 'qn': 10, 'cat': 'food', 'mfg_date': '1sept,2021', 'size': '95gram', 'specification': 'masala munch'}, '10034': {'name': 'Wired Headphone', 'pr': 500, 'qn': 40, 'cat': 'electronics', 'mfg_date': '14july,2021', 'size': '-', 'specification': 'black ,red ,blue colour'}, '10035': {'name': 'abc', 'price': 1200, 'quantity': 500, 'catagory': 'Na', 'mfg_date': '14 jan, 2021', 'size': '_', 'specification': '-'}, '10036': {'name': 'Kurkure', 'pr': 10, 'qn': 300, 'cat': 'food', 'mfg_date': '15 jan ,2022', 'size': '-', 'specification': 'Na'}, '10037': {'name': 'K1', 'price': 1999, 'quantity': 100, 'catagory': '-', 'mfg_date': '15 Jan, 2021', 'size': '-', 'specification': '-'}}\n"
          ]
        }
      ]
    },
    {
      "cell_type": "code",
      "metadata": {
        "id": "6J7xgBXjofUX"
      },
      "source": [
        "fd=open(\"records.json\",\"r\")\n",
        "fd.read()\n",
        "fd.close()\n",
        "jd=json.dumps(js)"
      ],
      "execution_count": 12,
      "outputs": []
    },
    {
      "cell_type": "code",
      "metadata": {
        "id": "7sNNI1C4exNU"
      },
      "source": [
        "fd=open(\"records.json\",\"w\")\n",
        "reco=fd.write(jd)\n",
        "fd.close()"
      ],
      "execution_count": 13,
      "outputs": []
    },
    {
      "cell_type": "markdown",
      "metadata": {
        "id": "6_V0nDCPe8wT"
      },
      "source": [
        "3)Purchasing products:"
      ]
    },
    {
      "cell_type": "code",
      "metadata": {
        "id": "s0uE8sZ3p2X-"
      },
      "source": [
        "fd=open(\"records.json\",\"r\")\n",
        "records=fd.read()\n",
        "fd.close()\n",
        "js=json.loads(jd)"
      ],
      "execution_count": 14,
      "outputs": []
    },
    {
      "cell_type": "code",
      "metadata": {
        "colab": {
          "base_uri": "https://localhost:8080/"
        },
        "id": "nekZ4yGPxKEL",
        "outputId": "87a99ca7-22ba-4044-eb09-2920417adcb2"
      },
      "source": [
        "print(\"Select prod_id from following inventory(js) to buy product \")"
      ],
      "execution_count": 15,
      "outputs": [
        {
          "output_type": "stream",
          "name": "stdout",
          "text": [
            "Select prod_id from following inventory(js) to buy product \n"
          ]
        }
      ]
    },
    {
      "cell_type": "code",
      "metadata": {
        "colab": {
          "base_uri": "https://localhost:8080/"
        },
        "id": "0a7lDJYurbAn",
        "outputId": "0fb2518c-f3c2-46c0-e50c-6807f702ab16"
      },
      "source": [
        "js"
      ],
      "execution_count": 16,
      "outputs": [
        {
          "output_type": "execute_result",
          "data": {
            "text/plain": [
              "{'10001': {'name': 'Coca Cola',\n",
              "  'price': 65,\n",
              "  'quantity': 90,\n",
              "  'catagory': 'soft-drink',\n",
              "  'mfg_date': '4Sept,2021',\n",
              "  'size': '1.25L',\n",
              "  'specifications': '-'},\n",
              " '10002': {'name': 'Coca Cola(Big size)',\n",
              "  'price': 89,\n",
              "  'quantity': 100,\n",
              "  'catagory': 'soft-drink',\n",
              "  'mfg_date': '1Sept,2021',\n",
              "  'size': '2.25L',\n",
              "  'specifications': '-'},\n",
              " '10003': {'name': 'Maza Mango Drink',\n",
              "  'price': 46,\n",
              "  'quantity': 92,\n",
              "  'catagory': 'drink',\n",
              "  'mfg_date': '5Sept,2021',\n",
              "  'size': '1.2L',\n",
              "  'specifications': '-'},\n",
              " '10004': {'name': 'Cadbury Chocolate Choc Layered Cakes',\n",
              "  'price': 60,\n",
              "  'quantity': 100,\n",
              "  'catagory': 'ice-cream family pack',\n",
              "  'mfg_date': '5Sept,2021',\n",
              "  'size': '126gram',\n",
              "  'specifications': '-'},\n",
              " '10005': {'name': 'Cadbury Dark Milk Chocolate Bar',\n",
              "  'price': 338,\n",
              "  'quantity': 100,\n",
              "  'catagory': 'chocolate-bar',\n",
              "  'mfg_date': '5Sept,2021',\n",
              "  'size': '156gram',\n",
              "  'specifications': '-'},\n",
              " '10006': {'name': 'Cadbury Dairy Milk Small',\n",
              "  'price': 40,\n",
              "  'quantity': 100,\n",
              "  'catagory': 'Chocolate',\n",
              "  'mfg_date': '5Sept,2021',\n",
              "  'size': '54gram',\n",
              "  'specifications': '-'},\n",
              " '10007': {'name': 'Cadbury Dairy Milk Silk Mousse Chocolate Bar',\n",
              "  'price': 78,\n",
              "  'quantity': 100,\n",
              "  'catagory': 'chocolate-bar',\n",
              "  'mfg_date': '4Sept,2021',\n",
              "  'size': '50gram',\n",
              "  'specifications': '-'},\n",
              " '10008': {'name': \"Kellogg's Chocos\",\n",
              "  'price': 445,\n",
              "  'quantity': 100,\n",
              "  'catagory': 'food',\n",
              "  'mfg_date': '2Sept,2021',\n",
              "  'size': '1.2kg',\n",
              "  'specifications': '-'},\n",
              " '10009': {'name': 'Sunfeast Dark Fantacy Choco Fills',\n",
              "  'price': 36,\n",
              "  'quantity': 100,\n",
              "  'catagory': 'Biscuit',\n",
              "  'mfg_date': '5Sept,2021',\n",
              "  'size': '75gram',\n",
              "  'specifications': '-'},\n",
              " '10010': {'name': 'Samsung Galaxy M31',\n",
              "  'price': 15999,\n",
              "  'quantity': 75,\n",
              "  'catagory': 'phone',\n",
              "  'mfg_date': '3feb,2021',\n",
              "  'size': 'Screen size-6.4Inches',\n",
              "  'specifications': 'Ocean Blue,6GB RAM ,128GB Storage'},\n",
              " '10011': {'name': 'Mi 11X Pro 5G',\n",
              "  'price': 49999,\n",
              "  'quantity': 60,\n",
              "  'catagory': 'phone',\n",
              "  'mfg_date': '4mar,2021',\n",
              "  'size': 'Screen size-6.67Inches',\n",
              "  'specifications': 'Cosmic Black,8GB RAM ,256GB Storage'},\n",
              " '10012': {'name': 'Realme Norzo 30',\n",
              "  'price': 16999,\n",
              "  'quantity': 55,\n",
              "  'catagory': 'phone',\n",
              "  'mfg_date': '13mar,2021',\n",
              "  'size': 'Screen size-6.5Inches',\n",
              "  'specifications': 'Racing Silver,6GB RAM, 128GB Storage'},\n",
              " '10013': {'name': 'Oppo A74 5G',\n",
              "  'price': 20999,\n",
              "  'quantity': 10,\n",
              "  'catagory': 'phone',\n",
              "  'mfg_date': '16feb,2021',\n",
              "  'size': 'Screen size-6.5Inches',\n",
              "  'specifications': 'Fantastic Purple,6GB RAM,128GB Storage'},\n",
              " '10014': {'name': 'Lenovo IdeaPad Gaming 3 Intel Core i5 10th Gen Full HD IPS Gaming Laptop(Onyx Black)',\n",
              "  'price': 59990,\n",
              "  'quantity': 15,\n",
              "  'catagory': 'laptop',\n",
              "  'mfg_date': '4mar,2021',\n",
              "  'size': '2.2kg',\n",
              "  'specifications': '8GB/1TB HDD/Windows 10/NVIDIA GTX 1650 4GB GDDR6 Graphics'},\n",
              " '10015': {'name': 'HP Pavillon Gaming 10th Gen Intel Core i5 Processor 15.6Inch FHD Gaming Laptop(Shadow Black)',\n",
              "  'price': 67990,\n",
              "  'quantity': 10,\n",
              "  'catagory': 'laptop',\n",
              "  'mfg_date': '18feb,2021',\n",
              "  'size': '2.23kg',\n",
              "  'specifications': '8GB/512GB SSD+32GB Intel Optane/Windows 10/NVIDIA 1650Ti 4GB'},\n",
              " '10016': {'name': 'HP Elitebook UltraSlim Hybrid Laptop 820G1 Intel Core i5 - 4200u Processor',\n",
              "  'price': 89990,\n",
              "  'quantity': 10,\n",
              "  'catagory': 'laptop',\n",
              "  'mfg_date': '3mar,2021',\n",
              "  'size': '1.5kg',\n",
              "  'specifications': '8 GB Ram, 1TB Harddisk & 256 GB ssd, Windows 10 Pro, 12.5 Inches Notebook'},\n",
              " '10017': {'name': 'LG Gram Ultra-Light 11th Gen Core i5',\n",
              "  'price': 74490,\n",
              "  'quantity': 40,\n",
              "  'catagory': 'laptop',\n",
              "  'mfg_date': '16feb,2021',\n",
              "  'size': '999gram',\n",
              "  'specifications': '8 GB RAM, 512 GB SSD, Win-10, Iris Xe Graphics, 14-inches, Thunderbolt 4, USC -C x 2 (with Power)'},\n",
              " '10018': {'name': 'Hide and Seek(Cafe Mocha)',\n",
              "  'price': 30,\n",
              "  'quantity': 145,\n",
              "  'catagory': 'biscuit',\n",
              "  'mfg_date': '18jan,2021',\n",
              "  'size': '120gram',\n",
              "  'specifications': 'fresh'},\n",
              " '10019': {'name': 'Britannia Treat Jim Jam',\n",
              "  'price': 35,\n",
              "  'quantity': 60,\n",
              "  'catagory': 'biscuit',\n",
              "  'mfg_date': '20jan,2021',\n",
              "  'size': '150gram',\n",
              "  'specifications': 'fresh'},\n",
              " '10020': {'name': 'Bourn Vita',\n",
              "  'price': 290,\n",
              "  'quantity': 50,\n",
              "  'catagory': 'food',\n",
              "  'mfg_date': '15mar,2021',\n",
              "  'size': '750gram',\n",
              "  'specifications': '-'},\n",
              " '10021': {'name': 'Horlicks',\n",
              "  'price': 739,\n",
              "  'quantity': 40,\n",
              "  'catagory': 'nutritiion drink',\n",
              "  'mfg_date': '26Aug,2021',\n",
              "  'size': '2kg',\n",
              "  'specifications': 'healthy and nutritious drink'},\n",
              " '10022': {'name': 'Maggi',\n",
              "  'price': 160,\n",
              "  'quantity': 50,\n",
              "  'catagory': 'food',\n",
              "  'mfg_date': '3Sept,2021',\n",
              "  'size': '70gram',\n",
              "  'specifications': 'masala instant noodles'},\n",
              " '10023': {'name': 'Sunfeast Yippee',\n",
              "  'price': 86,\n",
              "  'quantity': 40,\n",
              "  'catagory': 'food',\n",
              "  'mfg_date': '1Sept,2021',\n",
              "  'size': '280gram',\n",
              "  'specifications': 'whole wheat/instant noodle'},\n",
              " '10024': {'name': 'Frooti-mango drink',\n",
              "  'price': 60,\n",
              "  'quantity': 10,\n",
              "  'catagory': 'mango-drink',\n",
              "  'mfg_date': '3Sept,2021',\n",
              "  'size': '300ml',\n",
              "  'specifications': '-'},\n",
              " '10025': {'name': 'Kissan Jam',\n",
              "  'price': 250,\n",
              "  'quantity': 30,\n",
              "  'catagory': 'food',\n",
              "  'mfg_date': '1Sept,2021',\n",
              "  'size': '1kg',\n",
              "  'specifications': 'mixed fruit jam'},\n",
              " '10026': {'name': 'Kurkure snacks',\n",
              "  'price': 20,\n",
              "  'quantity': 100,\n",
              "  'catagory': 'food',\n",
              "  'mfg_date': '4Sept,2021',\n",
              "  'size': '90gram',\n",
              "  'specifications': '-'},\n",
              " '10027': {'name': 'Pop-corn',\n",
              "  'price': 198,\n",
              "  'quantity': 40,\n",
              "  'catagory': 'food',\n",
              "  'mfg_date': '5Sept,2021',\n",
              "  'size': '450gram',\n",
              "  'specifications': 'pack of 3'},\n",
              " '10028': {'name': 'Dried Strowberry',\n",
              "  'price': 230,\n",
              "  'quantity': 10,\n",
              "  'catagory': 'food',\n",
              "  'mfg_date': '5Sept,2021',\n",
              "  'size': '200gram',\n",
              "  'specifications': '-'},\n",
              " '10029': {'name': 'Classmate Spiral Notebook',\n",
              "  'price': 240,\n",
              "  'quantity': 200,\n",
              "  'catagory': 'stationary-notebook',\n",
              "  'mfg_date': '14jan,2021',\n",
              "  'size': '-',\n",
              "  'specifications': 'Single line, Spiral Binding, 240mm x 180mm, 200 Pages, Pack of 4, Multicolor '},\n",
              " '10030': {'name': 'Classmate Long Notebook ',\n",
              "  'price': 175,\n",
              "  'quantity': 100,\n",
              "  'catagory': 'stationary-notebook',\n",
              "  'mfg_date': '1Aug,2021',\n",
              "  'size': '-',\n",
              "  'specifications': 'Soft Cover, 120 Pages, 272x167mm, Single Line'},\n",
              " '10031': {'name': 'Nataraj Pencil',\n",
              "  'pr': 10,\n",
              "  'qn': 50,\n",
              "  'cat': 'stationary-pencil',\n",
              "  'mfg_date': '1jan,2021',\n",
              "  'size': '10gram',\n",
              "  'specification': 'extra dark'},\n",
              " '10032': {'name': 'Mike',\n",
              "  'pr': 599,\n",
              "  'quantity': 145,\n",
              "  'cat': 'electronics',\n",
              "  'mfg_date': '5jan,2021',\n",
              "  'size': '-',\n",
              "  'specification': 'wireless'},\n",
              " '10033': {'name': 'Kurkure Namkeen',\n",
              "  'pr': 20,\n",
              "  'qn': 10,\n",
              "  'cat': 'food',\n",
              "  'mfg_date': '1sept,2021',\n",
              "  'size': '95gram',\n",
              "  'specification': 'masala munch'},\n",
              " '10034': {'name': 'Wired Headphone',\n",
              "  'pr': 500,\n",
              "  'qn': 40,\n",
              "  'cat': 'electronics',\n",
              "  'mfg_date': '14july,2021',\n",
              "  'size': '-',\n",
              "  'specification': 'black ,red ,blue colour'},\n",
              " '10035': {'name': 'abc',\n",
              "  'price': 1200,\n",
              "  'quantity': 500,\n",
              "  'catagory': 'Na',\n",
              "  'mfg_date': '14 jan, 2021',\n",
              "  'size': '_',\n",
              "  'specification': '-'},\n",
              " '10036': {'name': 'Kurkure',\n",
              "  'pr': 10,\n",
              "  'qn': 300,\n",
              "  'cat': 'food',\n",
              "  'mfg_date': '15 jan ,2022',\n",
              "  'size': '-',\n",
              "  'specification': 'Na'},\n",
              " '10037': {'name': 'K1',\n",
              "  'price': 1999,\n",
              "  'quantity': 100,\n",
              "  'catagory': '-',\n",
              "  'mfg_date': '15 Jan, 2021',\n",
              "  'size': '-',\n",
              "  'specification': '-'}}"
            ]
          },
          "metadata": {},
          "execution_count": 16
        }
      ]
    },
    {
      "cell_type": "code",
      "metadata": {
        "colab": {
          "base_uri": "https://localhost:8080/"
        },
        "id": "VnlNdFiHrfTq",
        "outputId": "87ab5e25-627e-48f6-d317-c2842c8d4cc2"
      },
      "source": [
        "type(js)"
      ],
      "execution_count": 17,
      "outputs": [
        {
          "output_type": "execute_result",
          "data": {
            "text/plain": [
              "dict"
            ]
          },
          "metadata": {},
          "execution_count": 17
        }
      ]
    },
    {
      "cell_type": "code",
      "metadata": {
        "id": "7cMkSsqEzMiJ"
      },
      "source": [],
      "execution_count": 17,
      "outputs": []
    },
    {
      "cell_type": "code",
      "metadata": {
        "colab": {
          "base_uri": "https://localhost:8080/"
        },
        "id": "u7HnF0afe3ul",
        "outputId": "d6e84e9b-2b41-431a-b7d5-aa4fdc616de6"
      },
      "source": [
        "for i in range(100):\n",
        "  prod_ui=str(input(\"Enter your choice id\"))\n",
        "  prod_qn=int(input(\"Select the quantity you want\"))\n",
        "\n",
        "  op = input(\"Y/N\")\n",
        "  if(op == \"N\"):\n",
        "    break"
      ],
      "execution_count": 18,
      "outputs": [
        {
          "name": "stdout",
          "output_type": "stream",
          "text": [
            "Enter your choice id10037\n",
            "Select the quantity you want10\n",
            "Y/NN\n"
          ]
        }
      ]
    },
    {
      "cell_type": "code",
      "source": [
        "qnn=js[prod_ui]['name']\n",
        "qna=js[prod_ui]['quantity']\n",
        "prc=js[prod_ui]['price']\n",
        "catr=js[prod_ui]['catagory']\n",
        "if(int(prod_qn)<=qna):\n",
        "  print(\"Product is available please proceed to pay after reading details\")\n",
        "  print(\"Available details\",js[prod_ui])\n",
        "else:\n",
        "  print(\"Sorry for inconvinience , required product is not available\")\n"
      ],
      "metadata": {
        "colab": {
          "base_uri": "https://localhost:8080/"
        },
        "id": "NqV1Hifg0n3i",
        "outputId": "8de0e355-8a09-401b-d93c-57846bdbd6fd"
      },
      "execution_count": 19,
      "outputs": [
        {
          "output_type": "stream",
          "name": "stdout",
          "text": [
            "Product is available please proceed to pay after reading details\n",
            "Available details {'name': 'K1', 'price': 1999, 'quantity': 100, 'catagory': '-', 'mfg_date': '15 Jan, 2021', 'size': '-', 'specification': '-'}\n"
          ]
        }
      ]
    },
    {
      "cell_type": "code",
      "metadata": {
        "id": "yo5txrG7ppRm"
      },
      "source": [],
      "execution_count": 19,
      "outputs": []
    },
    {
      "cell_type": "markdown",
      "metadata": {
        "id": "-TqwYZQLw79T"
      },
      "source": [
        "4)Bill Generation:"
      ]
    },
    {
      "cell_type": "code",
      "metadata": {
        "colab": {
          "base_uri": "https://localhost:8080/"
        },
        "id": "jQYIMPYAxCSo",
        "outputId": "992ef43c-66d3-4450-d7a9-44b25f1a9fa5"
      },
      "source": [
        "print(\"WELCOME!\")\n",
        "\n",
        "Customer_name=str(input(\"Please enter your name\"))\n",
        "Bil_amt=prc*(prod_qn)\n",
        "print(\"To proceed pay Rs\",int(Bil_amt))\n",
        "print(\"Thanks for purchasing product.\")\n"
      ],
      "execution_count": 20,
      "outputs": [
        {
          "output_type": "stream",
          "name": "stdout",
          "text": [
            "WELCOME!\n",
            "Please enter your nameNucleyo\n",
            "To proceed pay Rs 19990\n",
            "Thanks for purchasing product.\n"
          ]
        }
      ]
    },
    {
      "cell_type": "markdown",
      "metadata": {
        "id": "Q3-f0YsgwJBR"
      },
      "source": [
        "5)Re-update inventory after purchasing product"
      ]
    },
    {
      "cell_type": "code",
      "metadata": {
        "id": "H4i-USGHlwoa"
      },
      "source": [
        "qna=qna-prod_qn"
      ],
      "execution_count": 21,
      "outputs": []
    },
    {
      "cell_type": "code",
      "metadata": {
        "colab": {
          "base_uri": "https://localhost:8080/"
        },
        "id": "AI7lkIMgmFZM",
        "outputId": "bc895431-b2f7-49fc-f1c2-169f56c6fbef"
      },
      "source": [
        "qna"
      ],
      "execution_count": 22,
      "outputs": [
        {
          "output_type": "execute_result",
          "data": {
            "text/plain": [
              "90"
            ]
          },
          "metadata": {},
          "execution_count": 22
        }
      ]
    },
    {
      "cell_type": "code",
      "metadata": {
        "id": "zPUFgzLmnT4T"
      },
      "source": [
        "js[prod_ui][\"quantity\"] = qna"
      ],
      "execution_count": 23,
      "outputs": []
    },
    {
      "cell_type": "code",
      "metadata": {
        "colab": {
          "base_uri": "https://localhost:8080/"
        },
        "id": "7YwXHKOYmHki",
        "outputId": "b12e94ee-25b7-404e-a93a-095a568e5c29"
      },
      "source": [
        "js"
      ],
      "execution_count": 24,
      "outputs": [
        {
          "output_type": "execute_result",
          "data": {
            "text/plain": [
              "{'10001': {'name': 'Coca Cola',\n",
              "  'price': 65,\n",
              "  'quantity': 90,\n",
              "  'catagory': 'soft-drink',\n",
              "  'mfg_date': '4Sept,2021',\n",
              "  'size': '1.25L',\n",
              "  'specifications': '-'},\n",
              " '10002': {'name': 'Coca Cola(Big size)',\n",
              "  'price': 89,\n",
              "  'quantity': 100,\n",
              "  'catagory': 'soft-drink',\n",
              "  'mfg_date': '1Sept,2021',\n",
              "  'size': '2.25L',\n",
              "  'specifications': '-'},\n",
              " '10003': {'name': 'Maza Mango Drink',\n",
              "  'price': 46,\n",
              "  'quantity': 92,\n",
              "  'catagory': 'drink',\n",
              "  'mfg_date': '5Sept,2021',\n",
              "  'size': '1.2L',\n",
              "  'specifications': '-'},\n",
              " '10004': {'name': 'Cadbury Chocolate Choc Layered Cakes',\n",
              "  'price': 60,\n",
              "  'quantity': 100,\n",
              "  'catagory': 'ice-cream family pack',\n",
              "  'mfg_date': '5Sept,2021',\n",
              "  'size': '126gram',\n",
              "  'specifications': '-'},\n",
              " '10005': {'name': 'Cadbury Dark Milk Chocolate Bar',\n",
              "  'price': 338,\n",
              "  'quantity': 100,\n",
              "  'catagory': 'chocolate-bar',\n",
              "  'mfg_date': '5Sept,2021',\n",
              "  'size': '156gram',\n",
              "  'specifications': '-'},\n",
              " '10006': {'name': 'Cadbury Dairy Milk Small',\n",
              "  'price': 40,\n",
              "  'quantity': 100,\n",
              "  'catagory': 'Chocolate',\n",
              "  'mfg_date': '5Sept,2021',\n",
              "  'size': '54gram',\n",
              "  'specifications': '-'},\n",
              " '10007': {'name': 'Cadbury Dairy Milk Silk Mousse Chocolate Bar',\n",
              "  'price': 78,\n",
              "  'quantity': 100,\n",
              "  'catagory': 'chocolate-bar',\n",
              "  'mfg_date': '4Sept,2021',\n",
              "  'size': '50gram',\n",
              "  'specifications': '-'},\n",
              " '10008': {'name': \"Kellogg's Chocos\",\n",
              "  'price': 445,\n",
              "  'quantity': 100,\n",
              "  'catagory': 'food',\n",
              "  'mfg_date': '2Sept,2021',\n",
              "  'size': '1.2kg',\n",
              "  'specifications': '-'},\n",
              " '10009': {'name': 'Sunfeast Dark Fantacy Choco Fills',\n",
              "  'price': 36,\n",
              "  'quantity': 100,\n",
              "  'catagory': 'Biscuit',\n",
              "  'mfg_date': '5Sept,2021',\n",
              "  'size': '75gram',\n",
              "  'specifications': '-'},\n",
              " '10010': {'name': 'Samsung Galaxy M31',\n",
              "  'price': 15999,\n",
              "  'quantity': 75,\n",
              "  'catagory': 'phone',\n",
              "  'mfg_date': '3feb,2021',\n",
              "  'size': 'Screen size-6.4Inches',\n",
              "  'specifications': 'Ocean Blue,6GB RAM ,128GB Storage'},\n",
              " '10011': {'name': 'Mi 11X Pro 5G',\n",
              "  'price': 49999,\n",
              "  'quantity': 60,\n",
              "  'catagory': 'phone',\n",
              "  'mfg_date': '4mar,2021',\n",
              "  'size': 'Screen size-6.67Inches',\n",
              "  'specifications': 'Cosmic Black,8GB RAM ,256GB Storage'},\n",
              " '10012': {'name': 'Realme Norzo 30',\n",
              "  'price': 16999,\n",
              "  'quantity': 55,\n",
              "  'catagory': 'phone',\n",
              "  'mfg_date': '13mar,2021',\n",
              "  'size': 'Screen size-6.5Inches',\n",
              "  'specifications': 'Racing Silver,6GB RAM, 128GB Storage'},\n",
              " '10013': {'name': 'Oppo A74 5G',\n",
              "  'price': 20999,\n",
              "  'quantity': 10,\n",
              "  'catagory': 'phone',\n",
              "  'mfg_date': '16feb,2021',\n",
              "  'size': 'Screen size-6.5Inches',\n",
              "  'specifications': 'Fantastic Purple,6GB RAM,128GB Storage'},\n",
              " '10014': {'name': 'Lenovo IdeaPad Gaming 3 Intel Core i5 10th Gen Full HD IPS Gaming Laptop(Onyx Black)',\n",
              "  'price': 59990,\n",
              "  'quantity': 15,\n",
              "  'catagory': 'laptop',\n",
              "  'mfg_date': '4mar,2021',\n",
              "  'size': '2.2kg',\n",
              "  'specifications': '8GB/1TB HDD/Windows 10/NVIDIA GTX 1650 4GB GDDR6 Graphics'},\n",
              " '10015': {'name': 'HP Pavillon Gaming 10th Gen Intel Core i5 Processor 15.6Inch FHD Gaming Laptop(Shadow Black)',\n",
              "  'price': 67990,\n",
              "  'quantity': 10,\n",
              "  'catagory': 'laptop',\n",
              "  'mfg_date': '18feb,2021',\n",
              "  'size': '2.23kg',\n",
              "  'specifications': '8GB/512GB SSD+32GB Intel Optane/Windows 10/NVIDIA 1650Ti 4GB'},\n",
              " '10016': {'name': 'HP Elitebook UltraSlim Hybrid Laptop 820G1 Intel Core i5 - 4200u Processor',\n",
              "  'price': 89990,\n",
              "  'quantity': 10,\n",
              "  'catagory': 'laptop',\n",
              "  'mfg_date': '3mar,2021',\n",
              "  'size': '1.5kg',\n",
              "  'specifications': '8 GB Ram, 1TB Harddisk & 256 GB ssd, Windows 10 Pro, 12.5 Inches Notebook'},\n",
              " '10017': {'name': 'LG Gram Ultra-Light 11th Gen Core i5',\n",
              "  'price': 74490,\n",
              "  'quantity': 40,\n",
              "  'catagory': 'laptop',\n",
              "  'mfg_date': '16feb,2021',\n",
              "  'size': '999gram',\n",
              "  'specifications': '8 GB RAM, 512 GB SSD, Win-10, Iris Xe Graphics, 14-inches, Thunderbolt 4, USC -C x 2 (with Power)'},\n",
              " '10018': {'name': 'Hide and Seek(Cafe Mocha)',\n",
              "  'price': 30,\n",
              "  'quantity': 145,\n",
              "  'catagory': 'biscuit',\n",
              "  'mfg_date': '18jan,2021',\n",
              "  'size': '120gram',\n",
              "  'specifications': 'fresh'},\n",
              " '10019': {'name': 'Britannia Treat Jim Jam',\n",
              "  'price': 35,\n",
              "  'quantity': 60,\n",
              "  'catagory': 'biscuit',\n",
              "  'mfg_date': '20jan,2021',\n",
              "  'size': '150gram',\n",
              "  'specifications': 'fresh'},\n",
              " '10020': {'name': 'Bourn Vita',\n",
              "  'price': 290,\n",
              "  'quantity': 50,\n",
              "  'catagory': 'food',\n",
              "  'mfg_date': '15mar,2021',\n",
              "  'size': '750gram',\n",
              "  'specifications': '-'},\n",
              " '10021': {'name': 'Horlicks',\n",
              "  'price': 739,\n",
              "  'quantity': 40,\n",
              "  'catagory': 'nutritiion drink',\n",
              "  'mfg_date': '26Aug,2021',\n",
              "  'size': '2kg',\n",
              "  'specifications': 'healthy and nutritious drink'},\n",
              " '10022': {'name': 'Maggi',\n",
              "  'price': 160,\n",
              "  'quantity': 50,\n",
              "  'catagory': 'food',\n",
              "  'mfg_date': '3Sept,2021',\n",
              "  'size': '70gram',\n",
              "  'specifications': 'masala instant noodles'},\n",
              " '10023': {'name': 'Sunfeast Yippee',\n",
              "  'price': 86,\n",
              "  'quantity': 40,\n",
              "  'catagory': 'food',\n",
              "  'mfg_date': '1Sept,2021',\n",
              "  'size': '280gram',\n",
              "  'specifications': 'whole wheat/instant noodle'},\n",
              " '10024': {'name': 'Frooti-mango drink',\n",
              "  'price': 60,\n",
              "  'quantity': 10,\n",
              "  'catagory': 'mango-drink',\n",
              "  'mfg_date': '3Sept,2021',\n",
              "  'size': '300ml',\n",
              "  'specifications': '-'},\n",
              " '10025': {'name': 'Kissan Jam',\n",
              "  'price': 250,\n",
              "  'quantity': 30,\n",
              "  'catagory': 'food',\n",
              "  'mfg_date': '1Sept,2021',\n",
              "  'size': '1kg',\n",
              "  'specifications': 'mixed fruit jam'},\n",
              " '10026': {'name': 'Kurkure snacks',\n",
              "  'price': 20,\n",
              "  'quantity': 100,\n",
              "  'catagory': 'food',\n",
              "  'mfg_date': '4Sept,2021',\n",
              "  'size': '90gram',\n",
              "  'specifications': '-'},\n",
              " '10027': {'name': 'Pop-corn',\n",
              "  'price': 198,\n",
              "  'quantity': 40,\n",
              "  'catagory': 'food',\n",
              "  'mfg_date': '5Sept,2021',\n",
              "  'size': '450gram',\n",
              "  'specifications': 'pack of 3'},\n",
              " '10028': {'name': 'Dried Strowberry',\n",
              "  'price': 230,\n",
              "  'quantity': 10,\n",
              "  'catagory': 'food',\n",
              "  'mfg_date': '5Sept,2021',\n",
              "  'size': '200gram',\n",
              "  'specifications': '-'},\n",
              " '10029': {'name': 'Classmate Spiral Notebook',\n",
              "  'price': 240,\n",
              "  'quantity': 200,\n",
              "  'catagory': 'stationary-notebook',\n",
              "  'mfg_date': '14jan,2021',\n",
              "  'size': '-',\n",
              "  'specifications': 'Single line, Spiral Binding, 240mm x 180mm, 200 Pages, Pack of 4, Multicolor '},\n",
              " '10030': {'name': 'Classmate Long Notebook ',\n",
              "  'price': 175,\n",
              "  'quantity': 100,\n",
              "  'catagory': 'stationary-notebook',\n",
              "  'mfg_date': '1Aug,2021',\n",
              "  'size': '-',\n",
              "  'specifications': 'Soft Cover, 120 Pages, 272x167mm, Single Line'},\n",
              " '10031': {'name': 'Nataraj Pencil',\n",
              "  'pr': 10,\n",
              "  'qn': 50,\n",
              "  'cat': 'stationary-pencil',\n",
              "  'mfg_date': '1jan,2021',\n",
              "  'size': '10gram',\n",
              "  'specification': 'extra dark'},\n",
              " '10032': {'name': 'Mike',\n",
              "  'pr': 599,\n",
              "  'quantity': 145,\n",
              "  'cat': 'electronics',\n",
              "  'mfg_date': '5jan,2021',\n",
              "  'size': '-',\n",
              "  'specification': 'wireless'},\n",
              " '10033': {'name': 'Kurkure Namkeen',\n",
              "  'pr': 20,\n",
              "  'qn': 10,\n",
              "  'cat': 'food',\n",
              "  'mfg_date': '1sept,2021',\n",
              "  'size': '95gram',\n",
              "  'specification': 'masala munch'},\n",
              " '10034': {'name': 'Wired Headphone',\n",
              "  'pr': 500,\n",
              "  'qn': 40,\n",
              "  'cat': 'electronics',\n",
              "  'mfg_date': '14july,2021',\n",
              "  'size': '-',\n",
              "  'specification': 'black ,red ,blue colour'},\n",
              " '10035': {'name': 'abc',\n",
              "  'price': 1200,\n",
              "  'quantity': 500,\n",
              "  'catagory': 'Na',\n",
              "  'mfg_date': '14 jan, 2021',\n",
              "  'size': '_',\n",
              "  'specification': '-'},\n",
              " '10036': {'name': 'Kurkure',\n",
              "  'pr': 10,\n",
              "  'qn': 300,\n",
              "  'cat': 'food',\n",
              "  'mfg_date': '15 jan ,2022',\n",
              "  'size': '-',\n",
              "  'specification': 'Na'},\n",
              " '10037': {'name': 'K1',\n",
              "  'price': 1999,\n",
              "  'quantity': 90,\n",
              "  'catagory': '-',\n",
              "  'mfg_date': '15 Jan, 2021',\n",
              "  'size': '-',\n",
              "  'specification': '-'}}"
            ]
          },
          "metadata": {},
          "execution_count": 24
        }
      ]
    },
    {
      "cell_type": "code",
      "metadata": {
        "id": "ybOn2SA29D_J"
      },
      "source": [
        "fd=open(\"records.json\",\"r\")\n",
        "fd.read()\n",
        "fd.close()\n",
        "j=json.dumps(js)"
      ],
      "execution_count": 25,
      "outputs": []
    },
    {
      "cell_type": "code",
      "metadata": {
        "id": "jaSyFjVenmPj"
      },
      "source": [
        "fd=open(\"records.json\",\"w\")\n",
        "record=fd.write(j)\n",
        "fd.close()"
      ],
      "execution_count": 26,
      "outputs": []
    },
    {
      "cell_type": "markdown",
      "metadata": {
        "id": "8rnSuEt89eBS"
      },
      "source": [
        "5)Sales json"
      ]
    },
    {
      "cell_type": "code",
      "metadata": {
        "colab": {
          "base_uri": "https://localhost:8080/"
        },
        "id": "iZPPRBxZ9Kpc",
        "outputId": "884100f6-1792-4827-9278-1da2e7e5195d"
      },
      "source": [
        "{'prod':prod_ui,'qn':prod_qn,'amount':js[prod_ui]['price']*prod_qn}"
      ],
      "execution_count": 27,
      "outputs": [
        {
          "output_type": "execute_result",
          "data": {
            "text/plain": [
              "{'prod': '10037', 'qn': 10, 'amount': 19990}"
            ]
          },
          "metadata": {},
          "execution_count": 27
        }
      ]
    },
    {
      "cell_type": "code",
      "metadata": {
        "id": "yNjVM16bAZ9E"
      },
      "source": [
        "sales={1:{'prod':prod_ui,'qn':prod_qn,'amount':js[prod_ui]['price']*prod_qn},}"
      ],
      "execution_count": 28,
      "outputs": []
    },
    {
      "cell_type": "code",
      "metadata": {
        "id": "nU73CP4QUPdf"
      },
      "source": [
        "sales[(len(sales)+1)]={'prod':prod_ui,'qn':prod_qn,'amount':js[prod_ui]['price']*prod_qn}"
      ],
      "execution_count": 29,
      "outputs": []
    },
    {
      "cell_type": "code",
      "metadata": {
        "colab": {
          "base_uri": "https://localhost:8080/"
        },
        "id": "SWZaMT7dVAEk",
        "outputId": "92621515-d030-45ef-a6be-c6d367d9dbe1"
      },
      "source": [
        "sales"
      ],
      "execution_count": 30,
      "outputs": [
        {
          "output_type": "execute_result",
          "data": {
            "text/plain": [
              "{1: {'prod': '10037', 'qn': 10, 'amount': 19990},\n",
              " 2: {'prod': '10037', 'qn': 10, 'amount': 19990}}"
            ]
          },
          "metadata": {},
          "execution_count": 30
        }
      ]
    },
    {
      "cell_type": "code",
      "metadata": {
        "id": "CIuPAggWApJ5"
      },
      "source": [
        "sale=json.dumps(sales)"
      ],
      "execution_count": 31,
      "outputs": []
    },
    {
      "cell_type": "code",
      "metadata": {
        "id": "yVbKnSESBCf4"
      },
      "source": [
        "fd=open(\"sale.json\",\"w\")\n",
        "wr=fd.write(sale)\n",
        "fd.close()"
      ],
      "execution_count": 32,
      "outputs": []
    },
    {
      "cell_type": "code",
      "metadata": {
        "colab": {
          "base_uri": "https://localhost:8080/",
          "height": 36
        },
        "id": "Ub68f0H4Bpfz",
        "outputId": "38cc7725-4655-43c5-d0e9-54116e827346"
      },
      "source": [
        "sale"
      ],
      "execution_count": 33,
      "outputs": [
        {
          "output_type": "execute_result",
          "data": {
            "text/plain": [
              "'{\"1\": {\"prod\": \"10037\", \"qn\": 10, \"amount\": 19990}, \"2\": {\"prod\": \"10037\", \"qn\": 10, \"amount\": 19990}}'"
            ],
            "application/vnd.google.colaboratory.intrinsic+json": {
              "type": "string"
            }
          },
          "metadata": {},
          "execution_count": 33
        }
      ]
    },
    {
      "cell_type": "markdown",
      "metadata": {
        "id": "sWeAPsh61ezu"
      },
      "source": [
        "Final inventory after sale"
      ]
    },
    {
      "cell_type": "code",
      "metadata": {
        "colab": {
          "base_uri": "https://localhost:8080/"
        },
        "id": "XhiiHFwI1dis",
        "outputId": "b38e268e-d404-43a0-c6f1-8eeb4fdd6f03"
      },
      "source": [
        "js"
      ],
      "execution_count": 34,
      "outputs": [
        {
          "output_type": "execute_result",
          "data": {
            "text/plain": [
              "{'10001': {'name': 'Coca Cola',\n",
              "  'price': 65,\n",
              "  'quantity': 90,\n",
              "  'catagory': 'soft-drink',\n",
              "  'mfg_date': '4Sept,2021',\n",
              "  'size': '1.25L',\n",
              "  'specifications': '-'},\n",
              " '10002': {'name': 'Coca Cola(Big size)',\n",
              "  'price': 89,\n",
              "  'quantity': 100,\n",
              "  'catagory': 'soft-drink',\n",
              "  'mfg_date': '1Sept,2021',\n",
              "  'size': '2.25L',\n",
              "  'specifications': '-'},\n",
              " '10003': {'name': 'Maza Mango Drink',\n",
              "  'price': 46,\n",
              "  'quantity': 92,\n",
              "  'catagory': 'drink',\n",
              "  'mfg_date': '5Sept,2021',\n",
              "  'size': '1.2L',\n",
              "  'specifications': '-'},\n",
              " '10004': {'name': 'Cadbury Chocolate Choc Layered Cakes',\n",
              "  'price': 60,\n",
              "  'quantity': 100,\n",
              "  'catagory': 'ice-cream family pack',\n",
              "  'mfg_date': '5Sept,2021',\n",
              "  'size': '126gram',\n",
              "  'specifications': '-'},\n",
              " '10005': {'name': 'Cadbury Dark Milk Chocolate Bar',\n",
              "  'price': 338,\n",
              "  'quantity': 100,\n",
              "  'catagory': 'chocolate-bar',\n",
              "  'mfg_date': '5Sept,2021',\n",
              "  'size': '156gram',\n",
              "  'specifications': '-'},\n",
              " '10006': {'name': 'Cadbury Dairy Milk Small',\n",
              "  'price': 40,\n",
              "  'quantity': 100,\n",
              "  'catagory': 'Chocolate',\n",
              "  'mfg_date': '5Sept,2021',\n",
              "  'size': '54gram',\n",
              "  'specifications': '-'},\n",
              " '10007': {'name': 'Cadbury Dairy Milk Silk Mousse Chocolate Bar',\n",
              "  'price': 78,\n",
              "  'quantity': 100,\n",
              "  'catagory': 'chocolate-bar',\n",
              "  'mfg_date': '4Sept,2021',\n",
              "  'size': '50gram',\n",
              "  'specifications': '-'},\n",
              " '10008': {'name': \"Kellogg's Chocos\",\n",
              "  'price': 445,\n",
              "  'quantity': 100,\n",
              "  'catagory': 'food',\n",
              "  'mfg_date': '2Sept,2021',\n",
              "  'size': '1.2kg',\n",
              "  'specifications': '-'},\n",
              " '10009': {'name': 'Sunfeast Dark Fantacy Choco Fills',\n",
              "  'price': 36,\n",
              "  'quantity': 100,\n",
              "  'catagory': 'Biscuit',\n",
              "  'mfg_date': '5Sept,2021',\n",
              "  'size': '75gram',\n",
              "  'specifications': '-'},\n",
              " '10010': {'name': 'Samsung Galaxy M31',\n",
              "  'price': 15999,\n",
              "  'quantity': 75,\n",
              "  'catagory': 'phone',\n",
              "  'mfg_date': '3feb,2021',\n",
              "  'size': 'Screen size-6.4Inches',\n",
              "  'specifications': 'Ocean Blue,6GB RAM ,128GB Storage'},\n",
              " '10011': {'name': 'Mi 11X Pro 5G',\n",
              "  'price': 49999,\n",
              "  'quantity': 60,\n",
              "  'catagory': 'phone',\n",
              "  'mfg_date': '4mar,2021',\n",
              "  'size': 'Screen size-6.67Inches',\n",
              "  'specifications': 'Cosmic Black,8GB RAM ,256GB Storage'},\n",
              " '10012': {'name': 'Realme Norzo 30',\n",
              "  'price': 16999,\n",
              "  'quantity': 55,\n",
              "  'catagory': 'phone',\n",
              "  'mfg_date': '13mar,2021',\n",
              "  'size': 'Screen size-6.5Inches',\n",
              "  'specifications': 'Racing Silver,6GB RAM, 128GB Storage'},\n",
              " '10013': {'name': 'Oppo A74 5G',\n",
              "  'price': 20999,\n",
              "  'quantity': 10,\n",
              "  'catagory': 'phone',\n",
              "  'mfg_date': '16feb,2021',\n",
              "  'size': 'Screen size-6.5Inches',\n",
              "  'specifications': 'Fantastic Purple,6GB RAM,128GB Storage'},\n",
              " '10014': {'name': 'Lenovo IdeaPad Gaming 3 Intel Core i5 10th Gen Full HD IPS Gaming Laptop(Onyx Black)',\n",
              "  'price': 59990,\n",
              "  'quantity': 15,\n",
              "  'catagory': 'laptop',\n",
              "  'mfg_date': '4mar,2021',\n",
              "  'size': '2.2kg',\n",
              "  'specifications': '8GB/1TB HDD/Windows 10/NVIDIA GTX 1650 4GB GDDR6 Graphics'},\n",
              " '10015': {'name': 'HP Pavillon Gaming 10th Gen Intel Core i5 Processor 15.6Inch FHD Gaming Laptop(Shadow Black)',\n",
              "  'price': 67990,\n",
              "  'quantity': 10,\n",
              "  'catagory': 'laptop',\n",
              "  'mfg_date': '18feb,2021',\n",
              "  'size': '2.23kg',\n",
              "  'specifications': '8GB/512GB SSD+32GB Intel Optane/Windows 10/NVIDIA 1650Ti 4GB'},\n",
              " '10016': {'name': 'HP Elitebook UltraSlim Hybrid Laptop 820G1 Intel Core i5 - 4200u Processor',\n",
              "  'price': 89990,\n",
              "  'quantity': 10,\n",
              "  'catagory': 'laptop',\n",
              "  'mfg_date': '3mar,2021',\n",
              "  'size': '1.5kg',\n",
              "  'specifications': '8 GB Ram, 1TB Harddisk & 256 GB ssd, Windows 10 Pro, 12.5 Inches Notebook'},\n",
              " '10017': {'name': 'LG Gram Ultra-Light 11th Gen Core i5',\n",
              "  'price': 74490,\n",
              "  'quantity': 40,\n",
              "  'catagory': 'laptop',\n",
              "  'mfg_date': '16feb,2021',\n",
              "  'size': '999gram',\n",
              "  'specifications': '8 GB RAM, 512 GB SSD, Win-10, Iris Xe Graphics, 14-inches, Thunderbolt 4, USC -C x 2 (with Power)'},\n",
              " '10018': {'name': 'Hide and Seek(Cafe Mocha)',\n",
              "  'price': 30,\n",
              "  'quantity': 145,\n",
              "  'catagory': 'biscuit',\n",
              "  'mfg_date': '18jan,2021',\n",
              "  'size': '120gram',\n",
              "  'specifications': 'fresh'},\n",
              " '10019': {'name': 'Britannia Treat Jim Jam',\n",
              "  'price': 35,\n",
              "  'quantity': 60,\n",
              "  'catagory': 'biscuit',\n",
              "  'mfg_date': '20jan,2021',\n",
              "  'size': '150gram',\n",
              "  'specifications': 'fresh'},\n",
              " '10020': {'name': 'Bourn Vita',\n",
              "  'price': 290,\n",
              "  'quantity': 50,\n",
              "  'catagory': 'food',\n",
              "  'mfg_date': '15mar,2021',\n",
              "  'size': '750gram',\n",
              "  'specifications': '-'},\n",
              " '10021': {'name': 'Horlicks',\n",
              "  'price': 739,\n",
              "  'quantity': 40,\n",
              "  'catagory': 'nutritiion drink',\n",
              "  'mfg_date': '26Aug,2021',\n",
              "  'size': '2kg',\n",
              "  'specifications': 'healthy and nutritious drink'},\n",
              " '10022': {'name': 'Maggi',\n",
              "  'price': 160,\n",
              "  'quantity': 50,\n",
              "  'catagory': 'food',\n",
              "  'mfg_date': '3Sept,2021',\n",
              "  'size': '70gram',\n",
              "  'specifications': 'masala instant noodles'},\n",
              " '10023': {'name': 'Sunfeast Yippee',\n",
              "  'price': 86,\n",
              "  'quantity': 40,\n",
              "  'catagory': 'food',\n",
              "  'mfg_date': '1Sept,2021',\n",
              "  'size': '280gram',\n",
              "  'specifications': 'whole wheat/instant noodle'},\n",
              " '10024': {'name': 'Frooti-mango drink',\n",
              "  'price': 60,\n",
              "  'quantity': 10,\n",
              "  'catagory': 'mango-drink',\n",
              "  'mfg_date': '3Sept,2021',\n",
              "  'size': '300ml',\n",
              "  'specifications': '-'},\n",
              " '10025': {'name': 'Kissan Jam',\n",
              "  'price': 250,\n",
              "  'quantity': 30,\n",
              "  'catagory': 'food',\n",
              "  'mfg_date': '1Sept,2021',\n",
              "  'size': '1kg',\n",
              "  'specifications': 'mixed fruit jam'},\n",
              " '10026': {'name': 'Kurkure snacks',\n",
              "  'price': 20,\n",
              "  'quantity': 100,\n",
              "  'catagory': 'food',\n",
              "  'mfg_date': '4Sept,2021',\n",
              "  'size': '90gram',\n",
              "  'specifications': '-'},\n",
              " '10027': {'name': 'Pop-corn',\n",
              "  'price': 198,\n",
              "  'quantity': 40,\n",
              "  'catagory': 'food',\n",
              "  'mfg_date': '5Sept,2021',\n",
              "  'size': '450gram',\n",
              "  'specifications': 'pack of 3'},\n",
              " '10028': {'name': 'Dried Strowberry',\n",
              "  'price': 230,\n",
              "  'quantity': 10,\n",
              "  'catagory': 'food',\n",
              "  'mfg_date': '5Sept,2021',\n",
              "  'size': '200gram',\n",
              "  'specifications': '-'},\n",
              " '10029': {'name': 'Classmate Spiral Notebook',\n",
              "  'price': 240,\n",
              "  'quantity': 200,\n",
              "  'catagory': 'stationary-notebook',\n",
              "  'mfg_date': '14jan,2021',\n",
              "  'size': '-',\n",
              "  'specifications': 'Single line, Spiral Binding, 240mm x 180mm, 200 Pages, Pack of 4, Multicolor '},\n",
              " '10030': {'name': 'Classmate Long Notebook ',\n",
              "  'price': 175,\n",
              "  'quantity': 100,\n",
              "  'catagory': 'stationary-notebook',\n",
              "  'mfg_date': '1Aug,2021',\n",
              "  'size': '-',\n",
              "  'specifications': 'Soft Cover, 120 Pages, 272x167mm, Single Line'},\n",
              " '10031': {'name': 'Nataraj Pencil',\n",
              "  'pr': 10,\n",
              "  'qn': 50,\n",
              "  'cat': 'stationary-pencil',\n",
              "  'mfg_date': '1jan,2021',\n",
              "  'size': '10gram',\n",
              "  'specification': 'extra dark'},\n",
              " '10032': {'name': 'Mike',\n",
              "  'pr': 599,\n",
              "  'quantity': 145,\n",
              "  'cat': 'electronics',\n",
              "  'mfg_date': '5jan,2021',\n",
              "  'size': '-',\n",
              "  'specification': 'wireless'},\n",
              " '10033': {'name': 'Kurkure Namkeen',\n",
              "  'pr': 20,\n",
              "  'qn': 10,\n",
              "  'cat': 'food',\n",
              "  'mfg_date': '1sept,2021',\n",
              "  'size': '95gram',\n",
              "  'specification': 'masala munch'},\n",
              " '10034': {'name': 'Wired Headphone',\n",
              "  'pr': 500,\n",
              "  'qn': 40,\n",
              "  'cat': 'electronics',\n",
              "  'mfg_date': '14july,2021',\n",
              "  'size': '-',\n",
              "  'specification': 'black ,red ,blue colour'},\n",
              " '10035': {'name': 'abc',\n",
              "  'price': 1200,\n",
              "  'quantity': 500,\n",
              "  'catagory': 'Na',\n",
              "  'mfg_date': '14 jan, 2021',\n",
              "  'size': '_',\n",
              "  'specification': '-'},\n",
              " '10036': {'name': 'Kurkure',\n",
              "  'pr': 10,\n",
              "  'qn': 300,\n",
              "  'cat': 'food',\n",
              "  'mfg_date': '15 jan ,2022',\n",
              "  'size': '-',\n",
              "  'specification': 'Na'},\n",
              " '10037': {'name': 'K1',\n",
              "  'price': 1999,\n",
              "  'quantity': 90,\n",
              "  'catagory': '-',\n",
              "  'mfg_date': '15 Jan, 2021',\n",
              "  'size': '-',\n",
              "  'specification': '-'}}"
            ]
          },
          "metadata": {},
          "execution_count": 34
        }
      ]
    }
  ]
}